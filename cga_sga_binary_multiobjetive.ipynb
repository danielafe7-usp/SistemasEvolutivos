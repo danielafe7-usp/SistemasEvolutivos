# Binarios sGA: One Max Problem (OMP).
import numpy as np
import matplotlib
import random
import matplotlib.pyplot as plt
plt.style.use('ggplot')
import seaborn as sn

# Plot matrix of covariance
def plot_cm(population):
    population = np.array(population)
    covMatrix = np.cov(population, bias=True)
    sn.heatmap(covMatrix, annot=True, fmt='g')
    plt.show()

# Plot progress: The scores starts to converge
def plotation(best_score_progress):
    plt.plot(best_score_progress)
    plt.xlabel('Generation')
    plt.ylabel('Best score (% target)')
    plt.show()

# Create the initial population (random)
def create_starting_population_sga(individuals, chromosome_length):
    population = np.random.randint(2, size=(individuals,chromosome_length))
    return population


# Aptitude function one max problem
def one_max_fitness(candidate):
    _str = ""
    for i in candidate:
        _str += str(int(i))
    f = int(_str,2)
    #print(_str," ",f)
    return f

def ftrap_5(candidate):
    f = 0
    for i in range(0,len(candidate),5):
        trap = candidate[i:i+5]
        trap = np.asarray(trap)
        u = np.count_nonzero(trap)
        if u < 5:
            f += 4 - u
        else:
            f += 5
    return f

def inv_ftrap_5(candidate):
    f = 0
    for i in range(0,len(candidate),5):
        trap = candidate[i:i+5]
        trap = np.asarray(trap)
        u = np.count_nonzero(trap)
        if u == 0:
            f += 5
        else:
            f += u -1
    return f

def rank_population(values1, values2,population):
    S=[[] for i in range(0,len(values1))]
    front = [[]]
    n=[0 for i in range(0,len(values1))]
    rank = [0 for i in range(0, len(values1))]

    for p in range(0,len(values1)):
        S[p]=[]
        n[p]=0
        for q in range(0, len(values1)):
            if (values1[p] > values1[q] and values2[p] > values2[q]) or (values1[p] >= values1[q] and values2[p] > values2[q]) or (values1[p] > values1[q] and values2[p] >= values2[q]):
                if q not in S[p]:
                    S[p].append(q)
            elif (values1[q] > values1[p] and values2[q] > values2[p]) or (values1[q] >= values1[p] and values2[q] > values2[p]) or (values1[q] > values1[p] and values2[q] >= values2[p]):
                n[p] = n[p] + 1
        if n[p]==0:
            rank[p] = 0
            if p not in front[0]:
                front[0].append(p)

    i = 0
    while(front[i] != []):
        Q=[]
        for p in front[i]:
            for q in S[p]:
                n[q] =n[q] - 1
                if( n[q]==0):
                    rank[q]=i+1
                    if q not in Q:
                        Q.append(q)
        i = i+1
        front.append(Q)

    del front[len(front)-1]

    sorted_pop = []
    for f in front:
        for i in f:
            sorted_pop.append(population[i])
    return sorted_pop



def selection_by_tournament(population_size ,population,scores,crossover_rate):
    # Create new population generating two children at a time
    new_population = []
    for i in range(int(population_size)):
        parent_1 = select_individual_by_tournament(population, scores)
        parent_2 = select_individual_by_tournament(population, scores)
        child_1, child_2 = crossover(parent_1, parent_2, crossover_rate)
        new_population.append(child_1)
        new_population.append(child_2)
    return new_population

def select_individual_by_tournament(population, scores):
    # Get population size
    population_size = len(scores)

    # Pick individuals for tournament
    fighter_1 = random.randint(0, population_size - 1)
    fighter_2 = random.randint(0, population_size - 1)

    # Get fitness score for each
    fighter_1_fitness = scores[fighter_1]
    fighter_2_fitness = scores[fighter_2]

    while fighter_2_fitness == fighter_1_fitness:
        fighter_2_fitness = random.randint(0, population_size - 1)

    # Identify individual with highest fitness
    # Fighter 1 will win if score are equal
    if fighter_1_fitness >= fighter_2_fitness:
        winner = fighter_1
    else:
        winner = fighter_2

    # Return the chromosome of the winner
    return population[winner, :]


def crossover(parent_1, parent_2,crossover_rate):
    # If we arise the probability , then we me crossover
    probability = np.random.random()
    if probability <= crossover_rate:
        # Get length of chromosome
        chromosome_length = len(parent_1)

        # Pick crossover point, avoding ends of chromosome
        crossover_point = random.randint(1, chromosome_length - 1)

        # Create children. np.hstack joins two arrays
        child_1 = np.hstack((parent_1[0:crossover_point],
                             parent_2[crossover_point:]))

        child_2 = np.hstack((parent_2[0:crossover_point],
                             parent_1[crossover_point:]))

    else:
        child_1 = parent_1
        child_2 = parent_2

    # Return children
    return child_1, child_2



def randomly_mutate_population(population, mutation_probability):
    # Apply random mutation
    random_mutation_array = np.random.random(
        size=(population.shape))

    random_mutation_boolean = (random_mutation_array <= mutation_probability)

    population[random_mutation_boolean] = \
        np.logical_not(population[random_mutation_boolean])

    # Return mutation population
    return population

def run_sga(chromosome_length,population_size,maximum_generation,crossover_rate,mutation_rate,fitness_obj_1,fitness_obj_2):
    best_score_progress = []  # Tracks progress
    best = []
    best_fitness = -1
    population = create_starting_population_sga(population_size, chromosome_length)
    #print('Initial population: \n{}'.format(population))

    scores_fit_1 = np.asarray([fitness_obj_1(ind) for ind in population])
    scores_fit_2 = np.asarray([fitness_obj_2(ind) for ind in population])

    # Now we'll go through the generations of genetic algorithm
    #print("First score: ",scores)
    for generation in range(maximum_generation):

        #best_score_progress.append(best_fitness)

        # Rank a population & applies cross over
        order_population = rank_population(scores_fit_1, scores_fit_2, population)

        # The winner is the first on the pareto frontier
        winner = order_population[0]
        winner_fitness = fitness_obj_1(winner) + fitness_obj_2(winner)
        #print("Winner Fitness: ",winner_fitness," Solution: ",winner)

        if len(best) > 0:
            if winner_fitness > best_fitness:
                best = winner
                best_fitness = winner_fitness
        else:
            best = winner
            best_fitness = winner_fitness

        best_score_progress.append(best_fitness)


        # Apply crossover to the elite of the population
        elite = order_population[:(int(population_size/2))]
        new_population = []
        for parent in range(0,len(elite)-1):
            parent_1 = elite[parent]
            parent_2 = elite[parent+1]
            child_1, child_2 = crossover(parent_1, parent_2, crossover_rate)
            new_population.append(child_1)
            new_population.append(child_2)

        # Replace the old population with the new one
        population = np.array(new_population)

        # Apply mutation
        population = randomly_mutate_population(population, mutation_rate)

        # Score best solution, and add to tracker
        scores_fit_1 = np.asarray([fitness_obj_1(ind) for ind in population])
        scores_fit_2 = np.asarray([fitness_obj_2(ind) for ind in population])

    print("SGA Best Fitness: ", best_fitness, " Best Solution: ", best," Fitness 1: ",fitness_obj_1(best)," Fitness 2: ",fitness_obj_2(best))
    #plotation(best_score_progress)
    return best_score_progress,population


# Binarios cGA: One Max Problem (OMP).

def generate_candidate(vector):
    value = []
    for p in vector:
        if np.random.random_sample() < p:
            value.append(1)
        else:
            value.append(0)

    return value


def generate_vector(size):
    return [0.5] * size


def compete(a_fitness, b_fitness, a, b):
    value_1_f1, value_1_f2 = a_fitness
    value_2_f1, value_2_f2 = b_fitness
    if ((value_1_f1 > value_2_f1 and value_1_f2 > value_2_f2) or (value_1_f1 >= value_2_f1 and value_1_f2 > value_2_f2)
            or (value_1_f1 > value_2_f1 and value_1_f2 >= value_2_f2)):
        return a, value_1_f1 + value_1_f2, b, b_fitness
    else:
        return b, value_2_f1 + value_2_f2, a, a_fitness

def update_vector(vector, winner, loser, population_size):
    for i in range(len(vector)):
        if winner[i] != loser[i]:
            if winner[i] == 1:
                vector[i] += 1.0 / float(population_size)
            else:
                vector[i] -= 1.0 / float(population_size)
    return vector


def run_cga(maximum_generation, chromosome_length, population_size, fitness_obj_1,fitness_obj_2):
    # Probability vector 0f 50 % of be 0 or 1
    vector = generate_vector(chromosome_length)
    best_score_progress = []
    best_score_progress.append(0)
    best = []
    best_fitness = -1

    for i in range(maximum_generation):
        # Generating two candidates
        s1 = generate_candidate(vector)
        s2 = generate_candidate(vector)

        # Calculating the fitness
        s1_fitness_1,s1_fitness_2 = [fitness_obj_1(s1),fitness_obj_2(s1)]
        s2_fitness_1,s2_fitness_2 = [fitness_obj_1(s2),fitness_obj_2(s2)]
        s1_fitness = [s1_fitness_1,s1_fitness_2]
        s2_fitness = [s2_fitness_1,s2_fitness_2]

        # Competition
        winner, winner_fitness, loser, loser_fitness = compete(s1_fitness, s2_fitness, s1, s2)

        # Check the best value
        if len(best) > 0:
            if winner_fitness > best_fitness:
                best = winner
                best_fitness = winner_fitness
        else:
            best = winner
            best_fitness = winner_fitness

        best_score_progress.append(best_fitness)

        # Update the vector
        vector = update_vector(vector, winner, loser, population_size)

        #print ("generation: {} best value: {} best fitness: {}".format(i + 1, winner, float(winner_fitness)))
    print("CGA Best Fitness: ", best_fitness, " Best Solution: ", best," Fitness 1: ",fitness_obj_1(best)," Fitness 2: ",fitness_obj_2(best))
    return best_score_progress


best_score_progress_sga,population = run_sga(5,20,100,0.7,0.009,ftrap_5,inv_ftrap_5)

#scores_fit_1 = np.asarray([ftrap_5(ind) for ind in population])
#scores_fit_2 = np.asarray([inv_ftrap_5(ind) for ind in population])
#Lets plot the final front now
"""
function1 = [i * -1 for i in scores_fit_1]
function2 = [j * -1 for j in scores_fit_2]
plt.xlabel('Function 1', fontsize=15)
plt.ylabel('Function 2', fontsize=15)
plt.scatter(function1, function2)
"""
best_score_progress_cga = run_cga(100, 5, 100, ftrap_5, inv_ftrap_5)
sga_line, = plt.plot(best_score_progress_sga, color="green", linewidth=1.5, linestyle="-", label='SGA')
cga_line, = plt.plot(best_score_progress_cga, color="red", linewidth=1.5, linestyle="dashed", label='CGA')
plt.legend()
plt.xlabel('Generation')
plt.ylabel('Fitness')
plt.show()#plt.show()
