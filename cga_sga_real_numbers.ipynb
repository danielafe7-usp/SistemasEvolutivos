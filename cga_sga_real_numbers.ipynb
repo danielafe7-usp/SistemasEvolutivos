{
 "cells": [
  {
   "cell_type": "code",
   "execution_count": 1,
   "metadata": {},
   "outputs": [],
   "source": [
    "import numpy as np\n",
    "import random\n",
    "from random import randint\n",
    "import matplotlib\n",
    "import matplotlib.pyplot as plt\n",
    "import seaborn as sn\n",
    "plt.style.use('ggplot')"
   ]
  },
  {
   "cell_type": "code",
   "execution_count": 2,
   "metadata": {},
   "outputs": [],
   "source": [
    "# Plot matrix of covariance\n",
    "def plot_cm(population):\n",
    "    population = np.array(population)\n",
    "    covMatrix = np.cov(population, bias=True)\n",
    "    sn.heatmap(covMatrix, annot=True, fmt='g')\n",
    "    plt.show()\n"
   ]
  },
  {
   "cell_type": "code",
   "execution_count": 3,
   "metadata": {},
   "outputs": [],
   "source": [
    "# Fitness functions\n",
    "def sphere(candidate):\n",
    "    f = 0\n",
    "    for s in candidate:\n",
    "        f += (s ** 2)\n",
    "    return f\n",
    "\n",
    "def rosen(candidate):\n",
    "    f = 0\n",
    "    for i in range(0,len(candidate) -1 ):\n",
    "        f += 100 * (candidate[i] ** 2 - candidate[i + 1]) ** 2 + (candidate[i] - 1) ** 2\n",
    "    return f\n"
   ]
  },
  {
   "cell_type": "markdown",
   "metadata": {},
   "source": [
    "SGA"
   ]
  },
  {
   "cell_type": "code",
   "execution_count": 4,
   "metadata": {},
   "outputs": [],
   "source": [
    "def run_sga(bounds, fitness_obj, mut=0.8, crossp=0.7, popsize=20, its=1000):\n",
    "    dimensions = len(bounds)\n",
    "    pop = np.random.rand(popsize, dimensions)\n",
    "    min_b, max_b = np.asarray(bounds).T\n",
    "    diff = np.fabs(min_b - max_b)\n",
    "    pop_denorm = min_b + pop * diff\n",
    "    fitness = np.asarray([fitness_obj(ind) for ind in pop_denorm])\n",
    "    best_idx = np.argmin(fitness)\n",
    "    best = pop_denorm[best_idx]\n",
    "    for i in range(its):\n",
    "        for j in range(popsize):\n",
    "            idxs = [idx for idx in range(popsize) if idx != j]\n",
    "            a, b, c = pop[np.random.choice(idxs, 3, replace = False)]\n",
    "            mutant = np.clip(a + mut * (b - c), 0, 1)\n",
    "            cross_points = np.random.rand(dimensions) < crossp\n",
    "            if not np.any(cross_points):\n",
    "                cross_points[np.random.randint(0, dimensions)] = True\n",
    "            trial = np.where(cross_points, mutant, pop[j])\n",
    "            trial_denorm = min_b + trial * diff\n",
    "            f = fitness_obj(trial_denorm)\n",
    "            if f < fitness[j]:\n",
    "                fitness[j] = f\n",
    "                pop[j] = trial\n",
    "                if f < fitness[best_idx]:\n",
    "                    best_idx = j\n",
    "                    best = trial_denorm\n",
    "        yield best, fitness[best_idx]\n",
    "\n"
   ]
  },
  {
   "cell_type": "markdown",
   "metadata": {},
   "source": [
    "CGA"
   ]
  },
  {
   "cell_type": "code",
   "execution_count": 5,
   "metadata": {},
   "outputs": [],
   "source": [
    "def generate_candidate(vector):\n",
    "    mean = np.mean(vector)\n",
    "    std = np.std(vector)\n",
    "    if std == 0:\n",
    "        std = 0.9\n",
    "    value = np.random.normal(mean, std, len(vector))\n",
    "    return value\n",
    "\n",
    "\n",
    "def generate_vector(size):\n",
    "    return [0.0] * size\n",
    "\n",
    "\n",
    "def compete(a_fitness, b_fitness,a,b):\n",
    "    if a_fitness < b_fitness:\n",
    "        return a, a_fitness, b, b_fitness\n",
    "    else:\n",
    "        return b, b_fitness, a, a_fitness\n",
    "\n",
    "\n",
    "def update_vector(vector, winner, loser):\n",
    "    for i in range(len(vector)):\n",
    "        if winner[i] != loser[i]:\n",
    "            vector[i] = winner[i]\n",
    "    return vector\n",
    "\n",
    "\n",
    "def run_cga(maximum_generation, chromosome_length,fitness_obj):\n",
    "    # probabilidade do vetor\n",
    "    vector = generate_vector(chromosome_length)\n",
    "    best = []\n",
    "    best_fitness = 99999999\n",
    "    best_score_progress =[]\n",
    "    for i in range(maximum_generation):\n",
    "        # Generating the first two candidates\n",
    "        s1 = generate_candidate(vector)\n",
    "        s2 = generate_candidate(vector)\n",
    "\n",
    "        # Calculating fitness\n",
    "        s1_fitness = fitness_obj(s1)\n",
    "        s2_fitness = fitness_obj(s2)\n",
    "\n",
    "        # Competition\n",
    "        winner, winner_fitness, loser, loser_fitness = compete(s1_fitness, s2_fitness, s1, s2)\n",
    "\n",
    "        # Update the best value\n",
    "        if len(best) > 0 :\n",
    "            if winner_fitness < best_fitness:\n",
    "                best = winner\n",
    "                best_fitness = winner_fitness\n",
    "        else:\n",
    "            best = winner\n",
    "            best_fitness = winner_fitness\n",
    "\n",
    "        best_score_progress.append(best_fitness)\n",
    "\n",
    "        # Updating vector of probabilities\n",
    "        vector = update_vector(vector, winner, loser)\n",
    "\n",
    "        #print(\"generation: {} best value: {} best fitness: {}\".format(i + 1, winner, winner_fitness))\n",
    "    return best_score_progress\n"
   ]
  },
  {
   "cell_type": "markdown",
   "metadata": {},
   "source": [
    "Main Method"
   ]
  },
  {
   "cell_type": "code",
   "execution_count": 6,
   "metadata": {},
   "outputs": [
    {
     "data": {
      "image/png": "[encoded data removed]",
      "text/plain": [
       "<Figure size 432x288 with 1 Axes>"
      ]
     },
     "metadata": {},
     "output_type": "display_data"
    },
    {
     "data": {
      "image/png": "[encoded data removed]",
      "text/plain": [
       "<Figure size 432x288 with 1 Axes>"
      ]
     },
     "metadata": {},
     "output_type": "display_data"
    }
   ],
   "source": [
    "# Mutual Parameters\n",
    "maximum_generation = 100\n",
    "population_size = 20\n",
    "fitness_obj = sphere\n",
    "\n",
    "# Reais sGA:\n",
    "chromosome_length = 8\n",
    "crossover_rate = 0.7\n",
    "mutation_rate =  0.8\n",
    "bounds = [(-100, 100)]\n",
    "\n",
    "# To more high the dimension, more difficult to converge\n",
    "for chromosome_length in [8, 16, 32, 64]:\n",
    "    it = list(run_sga(bounds * chromosome_length,fitness_obj, its=3000))\n",
    "    x, f = zip(*it)\n",
    "    plt.plot(f, label='d={}'.format(chromosome_length))\n",
    "plt.legend()\n",
    "plt.show()\n",
    "\n",
    "#-------------------------------------\n",
    "\n",
    "# Reais cGA:\n",
    "for chromosome_length in [8, 16, 32, 64]:\n",
    "    best_score_progress_cga = run_cga(maximum_generation, chromosome_length,fitness_obj)\n",
    "    plt.plot(best_score_progress_cga, label='d={}'.format(chromosome_length))\n",
    "plt.legend()\n",
    "plt.show()"
   ]
  }
 ],
 "metadata": {
  "kernelspec": {
   "display_name": "Python 3",
   "language": "python",
   "name": "python3"
  },
  "language_info": {
   "codemirror_mode": {
    "name": "ipython",
    "version": 3
   },
   "file_extension": ".py",
   "mimetype": "text/x-python",
   "name": "python",
   "nbconvert_exporter": "python",
   "pygments_lexer": "ipython3",
   "version": "3.6.9"
  }
 },
 "nbformat": 4,
 "nbformat_minor": 2
}
